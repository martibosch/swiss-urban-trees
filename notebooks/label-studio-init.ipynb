{
 "cells": [
  {
   "cell_type": "code",
   "execution_count": null,
   "id": "0",
   "metadata": {},
   "outputs": [],
   "source": [
    "import os\n",
    "import pathlib\n",
    "from os import path\n",
    "\n",
    "import pandas as pd\n",
    "import yaml\n",
    "from label_studio_sdk.client import LabelStudio\n",
    "from label_studio_sdk.label_interface import LabelInterface\n",
    "from osgeo import gdal\n",
    "\n",
    "\n",
    "def find_project_by_title(ls, project_title):\n",
    "    \"\"\"Find a project by its title.\"\"\"\n",
    "    for project in ls.projects.list():\n",
    "        if project.title == project_title:\n",
    "            return ls.projects.get(project.id)\n",
    "    return None\n",
    "\n",
    "\n",
    "LABEL_STUDIO_URL = os.getenv(\"LABEL_STUDIO_URL\")\n",
    "LABEL_STUDIO_API_KEY = os.getenv(\"LABEL_STUDIO_API_KEY\")\n",
    "LOCAL_FILES_ROOT = \"data/local-files\""
   ]
  },
  {
   "cell_type": "code",
   "execution_count": null,
   "id": "1",
   "metadata": {
    "tags": [
     "parameters"
    ]
   },
   "outputs": [],
   "source": [
    "split_filepath = \"../data/raw/sitg-orthophoto-2019-tiles/split.csv\"\n",
    "tile_dir = \"../data/raw/sitg-orthophoto-2019-tiles\"\n",
    "# label studio project parameters\n",
    "project_title = \"sitg-orhtophoto-2019\"\n",
    "label_config_filepath = \"../data/raw/label-config.xml\"\n",
    "# we will set up a local storage for the training tiles in a separate folder where we\n",
    "# will copy the training tiles (converted to JPEG)\n",
    "storage_dir = \"../data/raw/label-studio/sitg-orthophoto-2019\"\n",
    "img_ext = \"jpeg\"\n",
    "gdal_options = \"-if GTiff -of JPEG\"\n",
    "\n",
    "# just to have an output - the list of task ids - fot the snakemake rule\n",
    "dst_filepath = \"../data/raw/label-studio-init-ids.yml\""
   ]
  },
  {
   "cell_type": "code",
   "execution_count": null,
   "id": "2",
   "metadata": {},
   "outputs": [],
   "source": [
    "# connect to the Label Studio API and check the connection\n",
    "ls = LabelStudio(base_url=LABEL_STUDIO_URL, api_key=LABEL_STUDIO_API_KEY)\n",
    "\n",
    "# check if project already exists\n",
    "project = find_project_by_title(ls, project_title)\n",
    "\n",
    "if project is None:\n",
    "    # project does not exist, create it\n",
    "    # read labeling config\n",
    "    with open(label_config_filepath, \"r\") as f:\n",
    "        label_config = LabelInterface(f.read().strip(\"\\n\"))\n",
    "    # create project\n",
    "    project = ls.projects.create(title=project_title, label_config=label_config.config)\n",
    "    # create storage\n",
    "    if not path.exists(storage_dir):\n",
    "        # os.mkdir(storage_dir)\n",
    "        pathlib.Path(storage_dir).mkdir(parents=True)\n",
    "    ls.import_storage.local.create(\n",
    "        title=project_title,\n",
    "        project=project.id,\n",
    "        path=path.abspath(storage_dir),\n",
    "    )"
   ]
  },
  {
   "cell_type": "code",
   "execution_count": null,
   "id": "3",
   "metadata": {},
   "outputs": [],
   "source": [
    "# read train/test split and copy training tiles to the local storage folder\n",
    "# (converted to JPEG)\n",
    "split_df = pd.read_csv(split_filepath)\n",
    "img_filename_ser = split_df[split_df[\"train\"]][\"img_filename\"]\n",
    "for img_filename in img_filename_ser[~img_filename_ser.apply(path.exists)]:\n",
    "    gdal.Translate(\n",
    "        path.join(\n",
    "            storage_dir,\n",
    "            f\"{path.splitext(img_filename)[0]}.jpeg\",\n",
    "        ),\n",
    "        path.join(tile_dir, img_filename),\n",
    "        options=gdal_options,\n",
    "    )"
   ]
  },
  {
   "cell_type": "code",
   "execution_count": null,
   "id": "4",
   "metadata": {},
   "outputs": [],
   "source": [
    "# import tasks to label studio project\n",
    "task_ids = ls.projects.import_tasks(\n",
    "    project.id,\n",
    "    request=[\n",
    "        {\n",
    "            \"image\": path.join(\n",
    "                f\"{LOCAL_FILES_ROOT}/?d={project_title}\",\n",
    "                f\"{path.splitext(img_filename)[0]}.jpeg\",\n",
    "            )\n",
    "        }\n",
    "        for img_filename in img_filename_ser\n",
    "    ],\n",
    "    return_task_ids=True,\n",
    ")"
   ]
  },
  {
   "cell_type": "code",
   "execution_count": null,
   "id": "5",
   "metadata": {},
   "outputs": [],
   "source": [
    "# dump project and task ids to file\n",
    "with open(dst_filepath, \"w\") as dst:\n",
    "    yaml.dump({\"project-id\": project.id, \"task-ids\": task_ids.task_ids}, dst)"
   ]
  }
 ],
 "metadata": {
  "jupytext": {
   "cell_metadata_filter": "tags,-all"
  },
  "kernelspec": {
   "display_name": "Python (swiss-urban-trees)",
   "language": "python",
   "name": "swiss-urban-trees"
  },
  "language_info": {
   "codemirror_mode": {
    "name": "ipython",
    "version": 3
   },
   "file_extension": ".py",
   "mimetype": "text/x-python",
   "name": "python",
   "nbconvert_exporter": "python",
   "pygments_lexer": "ipython3",
   "version": "3.12.3"
  }
 },
 "nbformat": 4,
 "nbformat_minor": 5
}
