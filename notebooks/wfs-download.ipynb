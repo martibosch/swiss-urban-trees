{
 "cells": [
  {
   "cell_type": "code",
   "execution_count": null,
   "id": "b758c0ae",
   "metadata": {},
   "outputs": [],
   "source": [
    "from os import path\n",
    "\n",
    "import geopandas as gpd\n",
    "import osmnx as ox\n",
    "import pandas as pd\n",
    "import requests\n",
    "import tqdm\n",
    "from owslib.wfs import WebFeatureService\n",
    "\n",
    "from swiss_urban_trees import geo_utils"
   ]
  },
  {
   "cell_type": "code",
   "execution_count": null,
   "id": "d6ac0d19",
   "metadata": {
    "tags": [
     "parameters"
    ]
   },
   "outputs": [],
   "source": [
    "# ICA WFS\n",
    "wfs_url = (\n",
    "    \"https://app2.ge.ch/tergeoservices/services/Hosted/\"\n",
    "    \"SIPV_ICA_ARBRE_ISOLE/MapServer/WFSServer\"\n",
    ")\n",
    "wfs_version = \"2.0.0\"\n",
    "wfs_api_crs = \"epsg:2056\"\n",
    "wfs_data_crs = \"epsg:2056\"\n",
    "tile_size = 200  # in meters\n",
    "\n",
    "aoi = \"Geneva, Switzerland\"\n",
    "dst_filepath = \"../data/raw/sitg-orthophoto-2019-tiles/ica-trees.gpkg\""
   ]
  },
  {
   "cell_type": "code",
   "execution_count": null,
   "id": "ad1d4a38",
   "metadata": {},
   "outputs": [],
   "source": [
    "if path.exists(aoi):\n",
    "    aoi_gdf = gpd.read_file(aoi)\n",
    "else:\n",
    "    aoi_gdf = ox.geocode_to_gdf(aoi)\n",
    "aoi_gdf = aoi_gdf.to_crs(wfs_api_crs)"
   ]
  },
  {
   "cell_type": "code",
   "execution_count": null,
   "id": "4a6a429d",
   "metadata": {},
   "outputs": [],
   "source": [
    "region_tile_gser = geo_utils.get_tile_gser(\n",
    "    aoi_gdf.geometry.iloc[0],\n",
    "    tile_size,\n",
    "    tile_size,\n",
    "    wfs_api_crs,\n",
    ")"
   ]
  },
  {
   "cell_type": "code",
   "execution_count": null,
   "id": "a80d9790",
   "metadata": {},
   "outputs": [],
   "source": [
    "wfs = WebFeatureService(wfs_url)\n",
    "# there should be only one layer\n",
    "layer_name = list(wfs.contents)[0]\n",
    "wfs_params_base = dict(\n",
    "    service=\"WFS\",\n",
    "    version=wfs_version,\n",
    "    request=\"GetFeature\",\n",
    "    # typeName=\"SIPV_ICA_ARBRE_ISOLE\",\n",
    "    typeName=layer_name,\n",
    "    # outputFormat=\"GeoJSON\",\n",
    "    srsname=wfs_api_crs,\n",
    ")\n",
    "wfs_gdf = gpd.GeoDataFrame()\n",
    "for region_window in tqdm.tqdm(region_tile_gser):\n",
    "    wfs_params = wfs_params_base.copy()\n",
    "    wfs_params[\"BBOX\"] = \",\".join(map(str, region_window.bounds))\n",
    "    query_url = requests.Request(\"GET\", wfs_url, params=wfs_params).prepare().url\n",
    "    try:\n",
    "        wfs_gdf = pd.concat([wfs_gdf, gpd.read_file(query_url)], axis=\"rows\")\n",
    "    except IndexError:\n",
    "        # assume no data in this window\n",
    "        pass\n",
    "    except Exception as e:\n",
    "        print(f\"Failed reading data for {query_url}, exception: {e}\")"
   ]
  },
  {
   "cell_type": "code",
   "execution_count": null,
   "id": "b73e4839",
   "metadata": {},
   "outputs": [],
   "source": [
    "wfs_gdf.to_file(dst_filepath)"
   ]
  }
 ],
 "metadata": {
  "jupytext": {
   "cell_metadata_filter": "tags,-all"
  },
  "kernelspec": {
   "display_name": "Python (swiss-urban-trees)",
   "language": "python",
   "name": "swiss-urban-trees"
  }
 },
 "nbformat": 4,
 "nbformat_minor": 5
}
