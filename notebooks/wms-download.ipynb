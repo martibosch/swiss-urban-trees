{
 "cells": [
  {
   "cell_type": "code",
   "execution_count": null,
   "id": "0",
   "metadata": {},
   "outputs": [],
   "source": [
    "from os import path\n",
    "\n",
    "import geopandas as gpd\n",
    "import osmnx as ox\n",
    "\n",
    "from swiss_urban_trees import wms"
   ]
  },
  {
   "cell_type": "code",
   "execution_count": null,
   "id": "1",
   "metadata": {
    "tags": [
     "parameters"
    ]
   },
   "outputs": [],
   "source": [
    "# wms args\n",
    "# wms_url = \"https://raster.sitg.ge.ch/arcgis/services/ORTHOPHOTOS_COLLECTION/MapServer/WMSServer?request=GetCapabilities&service=WMS\"\n",
    "wms_url = \"\"\n",
    "version = \"1.3.0\"\n",
    "layer_name = \"22\"\n",
    "crs = \"EPSG:2056\"\n",
    "res = 0.25  # must be in meters\n",
    "tile_size = 1000  # in pixels\n",
    "format = \"image/tiff\"\n",
    "nodata = None\n",
    "\n",
    "aoi = \"Geneva, Switzerland\"\n",
    "dst_dir = \"../data/raw/sitg-tiles\"\n",
    "dst_filepath = \"../data/raw/sitg-orthophoto-2019-tiles/tiles.gpkg\""
   ]
  },
  {
   "cell_type": "code",
   "execution_count": null,
   "id": "2",
   "metadata": {},
   "outputs": [],
   "source": [
    "if path.exists(aoi):\n",
    "    aoi_gdf = gpd.read_file(aoi)\n",
    "else:\n",
    "    aoi_gdf = ox.geocode_to_gdf(aoi)\n",
    "aoi_gdf = aoi_gdf.to_crs(crs)"
   ]
  },
  {
   "cell_type": "code",
   "execution_count": null,
   "id": "3",
   "metadata": {},
   "outputs": [],
   "source": [
    "wms_dwd = wms.WMSDownloader(\n",
    "    wms_url,\n",
    "    str(layer_name),  # ACHTUNG: ensure layer name is a string\n",
    "    dst_dir,\n",
    "    res,\n",
    "    crs,\n",
    "    tile_size,\n",
    "    format,\n",
    "    nodata=nodata,\n",
    "    print_func=print,\n",
    ")\n",
    "tile_gdf = wms_dwd.download_aoi(aoi_gdf[\"geometry\"].iloc[0], keep_existing=True)"
   ]
  },
  {
   "cell_type": "code",
   "execution_count": null,
   "id": "4",
   "metadata": {},
   "outputs": [],
   "source": [
    "tile_gdf.assign(\n",
    "    **{\"tile_filename\": tile_gdf[\"tile_filepath\"].apply(path.basename)}\n",
    ").drop(\"tile_filepath\", axis=\"columns\").to_file(dst_filepath)"
   ]
  }
 ],
 "metadata": {
  "jupytext": {
   "cell_metadata_filter": "tags,-all"
  },
  "kernelspec": {
   "display_name": "Python (swiss-urban-trees)",
   "language": "python",
   "name": "swiss-urban-trees"
  }
 },
 "nbformat": 4,
 "nbformat_minor": 5
}
