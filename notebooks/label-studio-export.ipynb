{
 "cells": [
  {
   "cell_type": "code",
   "execution_count": null,
   "id": "3b550366",
   "metadata": {},
   "outputs": [],
   "source": [
    "import os\n",
    "\n",
    "from label_studio_sdk.client import LabelStudio\n",
    "\n",
    "from swiss_urban_trees import label_studio_utils\n",
    "\n",
    "LABEL_STUDIO_URL = os.getenv(\"LABEL_STUDIO_URL\")\n",
    "LABEL_STUDIO_API_KEY = os.getenv(\"LABEL_STUDIO_API_KEY\")"
   ]
  },
  {
   "cell_type": "code",
   "execution_count": null,
   "id": "c36333ec",
   "metadata": {
    "tags": [
     "parameters"
    ]
   },
   "outputs": [],
   "source": [
    "project_title = \"sitg-orhtophoto-2019\"\n",
    "\n",
    "dst_filepath = \"../data/label-studio/{project_title}.csv\""
   ]
  },
  {
   "cell_type": "code",
   "execution_count": null,
   "id": "d730b191",
   "metadata": {},
   "outputs": [],
   "source": [
    "# connect to the Label Studio API and get annotations as a data frame\n",
    "ls_client = LabelStudio(base_url=LABEL_STUDIO_URL, api_key=LABEL_STUDIO_API_KEY)"
   ]
  },
  {
   "cell_type": "code",
   "execution_count": null,
   "id": "6b218072",
   "metadata": {},
   "outputs": [],
   "source": [
    "# get annotations as a data frame and dump to a file\n",
    "label_studio_utils.get_annot_df_from_project(ls_client, project_title).to_csv(\n",
    "    dst_filepath, index=False\n",
    ")"
   ]
  }
 ],
 "metadata": {
  "jupytext": {
   "cell_metadata_filter": "tags,-all"
  },
  "kernelspec": {
   "display_name": "Python (swiss-urban-trees)",
   "language": "python",
   "name": "swiss-urban-trees"
  }
 },
 "nbformat": 4,
 "nbformat_minor": 5
}
